{
 "cells": [
  {
   "cell_type": "code",
   "execution_count": 1,
   "id": "39aa6018",
   "metadata": {},
   "outputs": [],
   "source": [
    "# Let's make a something like the baseline survey and annotate it."
   ]
  },
  {
   "cell_type": "code",
   "execution_count": 1,
   "id": "c784e11a",
   "metadata": {},
   "outputs": [],
   "source": [
    "from rubin_sim.scheduler.utils import Sky_area_generator, Footprint, make_rolling_footprints\n",
    "from rubin_sim.scheduler.modelObservatory import Model_observatory\n",
    "\n",
    "import healpy as hp\n",
    "%matplotlib inline\n",
    "import numpy as np\n",
    "\n",
    "import rubin_sim.scheduler.basis_functions as bf\n",
    "from rubin_sim.scheduler.surveys import Blob_survey\n",
    "from rubin_sim.scheduler.schedulers import Core_scheduler\n",
    "from rubin_sim.scheduler import sim_runner\n",
    "\n",
    "from rubin_sim.scheduler.basis_functions import Base_basis_function\n",
    "\n",
    "import matplotlib.pylab as plt"
   ]
  },
  {
   "cell_type": "code",
   "execution_count": null,
   "id": "fe64e9d1",
   "metadata": {},
   "outputs": [],
   "source": []
  }
 ],
 "metadata": {
  "kernelspec": {
   "display_name": "Python 3 (ipykernel)",
   "language": "python",
   "name": "python3"
  },
  "language_info": {
   "codemirror_mode": {
    "name": "ipython",
    "version": 3
   },
   "file_extension": ".py",
   "mimetype": "text/x-python",
   "name": "python",
   "nbconvert_exporter": "python",
   "pygments_lexer": "ipython3",
   "version": "3.8.12"
  }
 },
 "nbformat": 4,
 "nbformat_minor": 5
}
