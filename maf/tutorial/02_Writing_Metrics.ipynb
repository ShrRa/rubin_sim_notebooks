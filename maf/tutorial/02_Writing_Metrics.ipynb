{
 "cells": [
  {
   "cell_type": "markdown",
   "metadata": {},
   "source": [
    "<img align=\"left\" src = https://project.lsst.org/sites/default/files/Rubin-O-Logo_0.png width=250 style=\"padding: 10px\"> \n",
    "<b>Writing metrics</b> <br>\n",
    "Contact author: Eric Neilsen. ;l<br>\n",
    "Questions welcome at <a href=\"https://community.lsst.org/c/sci/survey-strategy\">community.lsst.org/c/sci/survey-strategy</a> and the <a href=\"https://lsstc.slack.com/archives/C2LTWTP5J\">#sims_operations</a> slack channel.<br>\n",
    "Find additional MAF documentation and resources at <a href=\"https://rubin-sim.lsst.io\">rubin-sim.lsst.io</a>. <br>"
   ]
  },
  {
   "cell_type": "markdown",
   "metadata": {},
   "source": [
    "**Credit:** Previous MAF tutorials, including not only the [tutorial notebooks in sims_MAF-contrib](https://github.com/LSST-nonproject/sims_maf_contrib/tree/master/tutorials) but also those by  Weixiang Yu, Gordon Richards, and Will Clarkson in their [LSST_OpSim](https://github.com/RichardsGroup/LSST_OpSim) repository, inspired the material to be included here. Stylistic elements of these notebooks were guided by the DP0.1 notebooks developed by Melissa Graham and the Rubin Observatory Community Engagement Team."
   ]
  },
  {
   "cell_type": "markdown",
   "metadata": {},
   "source": [
    "This notebook gives instructions on how to write `MAF` metrics, the most common code development task for science groups."
   ]
  },
  {
   "cell_type": "markdown",
   "metadata": {},
   "source": [
    "## 1. Notebook preparation"
   ]
  },
  {
   "cell_type": "markdown",
   "metadata": {},
   "source": [
    "### 1.1 Developer aids\n",
    "\n",
    "The following is a development style aid; only uncomment if developing the notebook:"
   ]
  },
  {
   "cell_type": "code",
   "execution_count": 1,
   "metadata": {},
   "outputs": [],
   "source": [
    "# %load_ext lab_black\n",
    "# %load_ext pycodestyle_magic\n",
    "# %flake8_on --ignore E501,W505"
   ]
  },
  {
   "cell_type": "markdown",
   "metadata": {},
   "source": [
    "### 1.2 Import the required python modules"
   ]
  },
  {
   "cell_type": "code",
   "execution_count": 3,
   "metadata": {},
   "outputs": [],
   "source": [
    "import rubin_sim\n",
    "from rubin_sim import maf"
   ]
  },
  {
   "cell_type": "markdown",
   "metadata": {},
   "source": [
    "### 1.3 Get example data to work with"
   ]
  },
  {
   "cell_type": "markdown",
   "metadata": {},
   "source": [
    "To test a metric, we will need to use a sample database. Let's use the sample baseline database installed as part of the `rubin_sim` installation process:"
   ]
  },
  {
   "cell_type": "code",
   "execution_count": 4,
   "metadata": {},
   "outputs": [
    {
     "data": {
      "text/plain": [
       "'/Users/lynnej/rubin_sim_data/sim_baseline/baseline_v2.1_10yrs.db'"
      ]
     },
     "execution_count": 4,
     "metadata": {},
     "output_type": "execute_result"
    }
   ],
   "source": [
    "opsim_db_fname = rubin_sim.data.get_baseline()\n",
    "opsim_db_fname"
   ]
  },
  {
   "cell_type": "markdown",
   "metadata": {},
   "source": [
    "We will also need an output directory. If you have one you want to use, set it here:"
   ]
  },
  {
   "cell_type": "code",
   "execution_count": 5,
   "metadata": {},
   "outputs": [],
   "source": [
    "# output_dir = '.'"
   ]
  },
  {
   "cell_type": "markdown",
   "metadata": {},
   "source": [
    "Otherwise, create a temporary directory that will automatically be cleaned up when this notebook shuts down:"
   ]
  },
  {
   "cell_type": "code",
   "execution_count": 6,
   "metadata": {},
   "outputs": [
    {
     "data": {
      "text/plain": [
       "'/Users/lynnej/lsst_repos/rubin_sim_notebooks/maf/tutorial/writing_metrics_ytz84q1g'"
      ]
     },
     "execution_count": 6,
     "metadata": {},
     "output_type": "execute_result"
    }
   ],
   "source": [
    "if \"output_dir\" not in locals():\n",
    "    from tempfile import TemporaryDirectory\n",
    "    import os\n",
    "\n",
    "    output_dir_itself = TemporaryDirectory(prefix=\"writing_metrics_\", dir=os.getcwd())\n",
    "    output_dir = output_dir_itself.name\n",
    "\n",
    "output_dir"
   ]
  },
  {
   "cell_type": "markdown",
   "metadata": {},
   "source": [
    "## 2. Understanding how metrics are called"
   ]
  },
  {
   "cell_type": "markdown",
   "metadata": {},
   "source": [
    "To understand how to write metrics, it helps to first know a little bit about slicers.\n",
    "\n",
    "`MAF` slicers categorize visits in the `opsim` database into groups called \"slices.\" Slices have a \"many to many\" relationship with visits: a given slice may contain zero or more visits, and a given visit may fall into zero, one, or many slices. For example, the `HealpixSlicer` slices the sky according to [healpixels](https://healpix.jpl.nasa.gov/). Because the sky in any given healpixel can be covered any number of times (including zero), the slice corresponding to a healpixel may contain zero, one, or many visits. A given visit may cover sky in multiple healpixels, and so may be present in multiple slices.\n",
    "\n",
    "Slicers themselves are python iterators that return tuples with indexes into the array of visits, and slice points (parameters for the slice):"
   ]
  },
  {
   "cell_type": "markdown",
   "metadata": {},
   "source": [
    "MAF metric objects must all include (among other things): \n",
    "- a `colNameArray` member, a `numpy.array` of strings with the names of database columns and any stackers that the metric requires. The `__init__` method of the `rubin_sim.maf.metrics.BaseMetric` includes a `col` named argument which is normally used to set the `colNameArray`. When there is only one element in `colNameArray`, the `colname` member is set with that column name.\n",
    "- a `run` method that takes two arguments:\n",
    "  - `dataSlice`, a `numpy.recarray` with one record per visit in a slice, and elements corresponding to (at least) all columns listed in `colNameArray`; and\n",
    "  - `slicePoint`, a python object (usually a dictionary) defining the parameters of a slice.\n",
    "  and returns an object that represents the value of the metric for that slice point.\n",
    "\n",
    "When MAF metrics are computed by calling the `runAll` method of an instance of `rubin_sim.maf.metricBundles.MetricBundleGroup`, the `MetricBundleGroup`:\n",
    "1. queries the database for any columns required (as specified by the `colNameArray` member of the metric object),\n",
    "2. computes values for any stackers listen in the metric's `colNameArray` member, and\n",
    "3. iterates over each slice, calling the metric's `run` method for every slice, and filling the `metricValue` member of the `MetricBundle` with the values returned by `run`.\n",
    "\n",
    "(This is an over-simplification: the `MetricBundleGroup`'s `runAll` method has various optimizations and other complications that are not important here.)"
   ]
  },
  {
   "cell_type": "markdown",
   "metadata": {},
   "source": [
    "## 3. Exploring existing metrics"
   ]
  },
  {
   "cell_type": "markdown",
   "metadata": {},
   "source": [
    "MAF already contains a variety of metrics: before writing a new metric, it is worthwhile to check whether an existing one will do the job. A list of existing metrics with links to documentation can be found [here](https://rubin-sim.lsst.io/rs_maf/metricList.html). A plain list of metrics that can also be listed in a notebook with `maf.BaseMetric.help()`, and online documentation for them printed using the `doc=True` option:\n",
    "\n",
    "```\n",
    "https://rubin-sim.lsst.io/rs_maf/metricList.html```"
   ]
  },
  {
   "cell_type": "markdown",
   "metadata": {},
   "source": [
    "If an existing metric does something close to what you want, you can find the source code for guidance thus:"
   ]
  },
  {
   "cell_type": "code",
   "execution_count": 7,
   "metadata": {},
   "outputs": [],
   "source": [
    "%pinfo maf.SumMetric"
   ]
  },
  {
   "cell_type": "markdown",
   "metadata": {},
   "source": [
    "or dump the whole source code into a jupyter notebook:"
   ]
  },
  {
   "cell_type": "code",
   "execution_count": 8,
   "metadata": {},
   "outputs": [],
   "source": [
    "%psource maf.SumMetric"
   ]
  },
  {
   "cell_type": "markdown",
   "metadata": {},
   "source": [
    "## 4. An exploratory metric"
   ]
  },
  {
   "cell_type": "markdown",
   "metadata": {},
   "source": [
    "To get a feel for how metrics works, lets create a \"dummy\" metric that prints information on what arguments it was passed."
   ]
  },
  {
   "cell_type": "code",
   "execution_count": 9,
   "metadata": {},
   "outputs": [],
   "source": [
    "import numpy as np\n",
    "\n",
    "\n",
    "class Test1Metric(maf.BaseMetric):\n",
    "    def __init__(self):\n",
    "        # Set the columns we want from the database\n",
    "        super().__init__(col=[\"fieldRA\", \"fieldDec\", \"HA\"], metricName=\"test1\")\n",
    "\n",
    "    def run(self, dataSlice, slicePoint=None):\n",
    "        print(\"--- run ----\")\n",
    "        print(\n",
    "            f\"dataSlice is a {type(dataSlice)} of dtype {dataSlice.dtype} with a shape of {dataSlice.shape}\"\n",
    "        )\n",
    "        print(f\"slicePoint is a {type(slicePoint)} with value: {slicePoint}\")\n",
    "\n",
    "        # Calculate the metric value here, using any values\n",
    "        # you like from the dataSlice and slicePoint arguments.\n",
    "        metric_value_for_this_slice = np.random.rand()\n",
    "        return metric_value_for_this_slice"
   ]
  },
  {
   "cell_type": "markdown",
   "metadata": {},
   "source": [
    "To apply our metric, we need to create a slicer with which to slice the data. Let's use the `maf.OneDSlicer`, which slices the data into bins according to some value. In this case, we divide the visits into large bins by airmass:"
   ]
  },
  {
   "cell_type": "code",
   "execution_count": 10,
   "metadata": {},
   "outputs": [],
   "source": [
    "slicer = maf.OneDSlicer(sliceColName=\"airmass\", binMin=1.0, binMax=2.5, binsize=0.5)"
   ]
  },
  {
   "cell_type": "markdown",
   "metadata": {},
   "source": [
    "Now, instantiate our metric, combine it with our slicer into a `maf.MetricBundle`, and compute the metrics in that bundle with a `maf.MetricBundleGroup`:"
   ]
  },
  {
   "cell_type": "code",
   "execution_count": 11,
   "metadata": {},
   "outputs": [
    {
     "name": "stdout",
     "output_type": "stream",
     "text": [
      "Querying table None with no constraint for columns ['fieldRA', 'fieldDec', 'airmass', 'observationStartLST'].\n",
      "Found 2081749 visits\n",
      "Running:  ['opsim_test1_ONED']\n",
      "--- run ----\n",
      "dataSlice is a <class 'numpy.ndarray'> of dtype [('fieldRA', '<f8'), ('fieldDec', '<f8'), ('airmass', '<f8'), ('observationStartLST', '<f8'), ('HA', '<f8')] with a shape of (1891305,)\n",
      "slicePoint is a <class 'dict'> with value: {'sid': 0, 'binLeft': 1.0}\n",
      "--- run ----\n",
      "dataSlice is a <class 'numpy.ndarray'> of dtype [('fieldRA', '<f8'), ('fieldDec', '<f8'), ('airmass', '<f8'), ('observationStartLST', '<f8'), ('HA', '<f8')] with a shape of (166402,)\n",
      "slicePoint is a <class 'dict'> with value: {'sid': 1, 'binLeft': 1.5}\n",
      "--- run ----\n",
      "dataSlice is a <class 'numpy.ndarray'> of dtype [('fieldRA', '<f8'), ('fieldDec', '<f8'), ('airmass', '<f8'), ('observationStartLST', '<f8'), ('HA', '<f8')] with a shape of (24042,)\n",
      "slicePoint is a <class 'dict'> with value: {'sid': 2, 'binLeft': 2.0}\n",
      "Completed metric generation.\n",
      "Running reduce methods.\n",
      "Running summary statistics.\n",
      "Completed.\n"
     ]
    }
   ],
   "source": [
    "metric = Test1Metric()\n",
    "bundle = maf.MetricBundle(metric, slicer, \"\", \"sample_run\")\n",
    "bgroup = maf.MetricBundleGroup([bundle], opsim_db_fname, outDir=output_dir)\n",
    "bgroup.runAll()"
   ]
  },
  {
   "cell_type": "markdown",
   "metadata": {},
   "source": [
    "Note that the `dataSlice` `recarray` contained not only the fields we asked for, but two others as well: `airmass` and `observationStartLST`. These are present because the values were needed by the slicer, and by the stacker used to compute the `HA`."
   ]
  },
  {
   "cell_type": "markdown",
   "metadata": {},
   "source": [
    "We can look at the values calculated (or in this dummy example, randomly generated) with the `bundle` object:"
   ]
  },
  {
   "cell_type": "code",
   "execution_count": 12,
   "metadata": {},
   "outputs": [
    {
     "data": {
      "text/plain": [
       "masked_array(data=[0.05734570778098724, 0.44104908136026333,\n",
       "                   0.3594100436251435],\n",
       "             mask=[False, False, False],\n",
       "       fill_value=0.0)"
      ]
     },
     "execution_count": 12,
     "metadata": {},
     "output_type": "execute_result"
    }
   ],
   "source": [
    "bundle.metricValues"
   ]
  },
  {
   "cell_type": "markdown",
   "metadata": {},
   "source": [
    "In this example, the `run` method had access to the `slicePoint` dictionary which included the `binLeft` field showing which bin the slice was. The metric could, therefore, have used it in its calculations. However, doing such would limit the slicers on which the metric could be run to only those slicers with a `binLeft` element in the `slicePoint`."
   ]
  },
  {
   "cell_type": "markdown",
   "metadata": {},
   "source": [
    "## 5. A Workbook for developing metrics"
   ]
  },
  {
   "cell_type": "markdown",
   "metadata": {},
   "source": [
    "Development of metrics usually involves repeated execution of successive modifications of metric code. The [New Metric Workbook](../science/New%20Metric%20Workbook.ipynb) provides a template for development of metrics debugged through repeated execution within a jupyter notebook."
   ]
  },
  {
   "cell_type": "markdown",
   "metadata": {},
   "source": [
    "## 6. Applying a metric to the whole set of visits"
   ]
  },
  {
   "cell_type": "markdown",
   "metadata": {},
   "source": [
    "Even if we do not want to slice the data, but instead want our `run` method to be passed the entire set of visits, we still need to supply a slicer to satisfy the MAF machinery. The `rubin_sim.maf.slicers.UniSlicer` slicer fills this role, creating one slice with all visits."
   ]
  },
  {
   "cell_type": "code",
   "execution_count": 13,
   "metadata": {},
   "outputs": [
    {
     "name": "stdout",
     "output_type": "stream",
     "text": [
      "Querying table None with no constraint for columns ['fieldRA', 'fieldDec', 'observationStartLST'].\n",
      "Found 2081749 visits\n",
      "Running:  ['opsim_test1_UNIS']\n",
      "--- run ----\n",
      "dataSlice is a <class 'numpy.ndarray'> of dtype [('fieldRA', '<f8'), ('fieldDec', '<f8'), ('observationStartLST', '<f8'), ('HA', '<f8')] with a shape of (2081749,)\n",
      "slicePoint is a <class 'dict'> with value: {'sid': 0}\n",
      "Completed metric generation.\n",
      "Running reduce methods.\n",
      "Running summary statistics.\n",
      "Completed.\n"
     ]
    }
   ],
   "source": [
    "slicer = maf.UniSlicer()\n",
    "bundle = maf.MetricBundle(metric, slicer, \"\", \"unslicer_sample_run\")\n",
    "bgroup = maf.MetricBundleGroup([bundle], opsim_db_fname, outDir=output_dir)\n",
    "bgroup.runAll()"
   ]
  },
  {
   "cell_type": "markdown",
   "metadata": {},
   "source": [
    "This time, `airmass` was not required to run the slicer, and it was not one of the fields listed in the `colNameArray` member of our metric, so it was not included in the `dataSlice` `recarray` passed to our metric."
   ]
  },
  {
   "cell_type": "markdown",
   "metadata": {},
   "source": [
    "## 7. General metrics"
   ]
  },
  {
   "cell_type": "markdown",
   "metadata": {},
   "source": [
    "Some metrics are general in their applicability. For example, `maf.MedianMetric` can be applied to any numeric column, and does not use the contents of `slicePoint`s. In this case and those like it, the \"work\" of the `metric` object can mostly be handled by methods inhereted from `rubin_sim.maf.metrics.BaseMetric`.\n",
    "\n",
    "Consider the definition of `maf.MedianMetric`:"
   ]
  },
  {
   "cell_type": "code",
   "execution_count": 14,
   "metadata": {},
   "outputs": [],
   "source": [
    "%psource maf.MedianMetric"
   ]
  },
  {
   "cell_type": "markdown",
   "metadata": {},
   "source": [
    "How MAF know what column to get the median of? How does `self.colname` get set? \n",
    "\n",
    "The `maf.BaseMetric`'s `__init__` method has a `col` argument, and if it is set to a single string rather than a list of strings, the `colname` member takes the value of the one column name. So, the `maf.MedianMetric` must be initialized with the column name, and the `__init__` method of its parent class takes care of assigning the necessary members:"
   ]
  },
  {
   "cell_type": "code",
   "execution_count": 16,
   "metadata": {},
   "outputs": [
    {
     "name": "stdout",
     "output_type": "stream",
     "text": [
      "Querying table None with no constraint for columns ['airmass', 'moonAlt'].\n",
      "Found 2081749 visits\n",
      "Running:  ['opsim_Median_moonAlt_ONED']\n",
      "Completed metric generation.\n",
      "Running reduce methods.\n",
      "Running summary statistics.\n",
      "Completed.\n"
     ]
    }
   ],
   "source": [
    "slicer = maf.OneDSlicer(sliceColName=\"airmass\", binMin=1.0, binMax=2.5, binsize=0.5)\n",
    "metric = maf.MedianMetric(col=\"moonAlt\")\n",
    "bundle = maf.MetricBundle(metric, slicer, \"\")\n",
    "bgroup = maf.MetricBundleGroup([bundle], opsim_db_fname, outDir=output_dir)\n",
    "bgroup.runAll()"
   ]
  },
  {
   "cell_type": "markdown",
   "metadata": {},
   "source": [
    "Now we can look at the median moon altitudes for each of our large airmass bins:"
   ]
  },
  {
   "cell_type": "code",
   "execution_count": 17,
   "metadata": {},
   "outputs": [
    {
     "data": {
      "text/plain": [
       "masked_array(data=[-2.4567327556316445, 8.903655783021529,\n",
       "                   13.225341484438875],\n",
       "             mask=[False, False, False],\n",
       "       fill_value=0.0)"
      ]
     },
     "execution_count": 17,
     "metadata": {},
     "output_type": "execute_result"
    }
   ],
   "source": [
    "bundle.metricValues"
   ]
  },
  {
   "cell_type": "markdown",
   "metadata": {},
   "source": [
    "We can also get the slice points used:"
   ]
  },
  {
   "cell_type": "code",
   "execution_count": 18,
   "metadata": {},
   "outputs": [
    {
     "data": {
      "text/plain": [
       "{'sid': array([0, 1, 2]), 'bins': array([1. , 1.5, 2. , 2.5])}"
      ]
     },
     "execution_count": 18,
     "metadata": {},
     "output_type": "execute_result"
    }
   ],
   "source": [
    "bundle.slicer.slicePoints"
   ]
  },
  {
   "cell_type": "markdown",
   "metadata": {},
   "source": [
    "## 8. Metric values"
   ]
  },
  {
   "cell_type": "markdown",
   "metadata": {},
   "source": [
    "A metric's `run` method is called once on each slice generated by the slicer. Although it is usually a numeric value like an `int` or a `float`, it can potentially be any python object.\n",
    "\n",
    "For example:"
   ]
  },
  {
   "cell_type": "code",
   "execution_count": 19,
   "metadata": {},
   "outputs": [],
   "source": [
    "class MyBespokeMoon:\n",
    "    def __init__(self, alt, az):\n",
    "        self.alt = alt\n",
    "        self.az = az\n",
    "\n",
    "    def __repr__(self):\n",
    "        return f\"Moon alt: {self.alt}, az: {self.az}\"\n",
    "\n",
    "\n",
    "class MyWierdMetric(maf.BaseMetric):\n",
    "    def __init__(self):\n",
    "        super().__init__(\n",
    "            col=[\"moonAlt\", \"moonAz\"], metricName=\"wierdness\", metricDtype=\"object\"\n",
    "        )\n",
    "\n",
    "    def run(self, dataSlice, slicePoint=None):\n",
    "        if len(dataSlice) is None:\n",
    "            this_slice_value = None\n",
    "        else:\n",
    "            this_slice_value = MyBespokeMoon(dataSlice[0].moonAlt, dataSlice[0].moonAz)\n",
    "        return this_slice_value"
   ]
  },
  {
   "cell_type": "markdown",
   "metadata": {},
   "source": [
    "When we run this metric, we will get an array of our bespoke object back:"
   ]
  },
  {
   "cell_type": "code",
   "execution_count": 20,
   "metadata": {},
   "outputs": [
    {
     "name": "stdout",
     "output_type": "stream",
     "text": [
      "Querying table None with no constraint for columns ['moonAz', 'airmass', 'moonAlt'].\n",
      "Found 2081749 visits\n",
      "Running:  ['opsim_wierdness_ONED']\n",
      "Completed metric generation.\n",
      "Running reduce methods.\n",
      "Running summary statistics.\n",
      "Completed.\n"
     ]
    },
    {
     "data": {
      "text/plain": [
       "masked_array(data=[Moon alt: 27.748651376649068, az: 278.08965481184003,\n",
       "                   Moon alt: -42.895141726013975, az: 250.96870326706176,\n",
       "                   Moon alt: -48.83854078199618, az: 244.99750274540682],\n",
       "             mask=[False, False, False],\n",
       "       fill_value=0,\n",
       "            dtype=object)"
      ]
     },
     "execution_count": 20,
     "metadata": {},
     "output_type": "execute_result"
    }
   ],
   "source": [
    "slicer = maf.OneDSlicer(sliceColName=\"airmass\", binMin=1.0, binMax=2.5, binsize=0.5)\n",
    "metric = MyWierdMetric()\n",
    "bundle = maf.MetricBundle(metric, slicer, \"\")\n",
    "bgroup = maf.MetricBundleGroup([bundle], opsim_db_fname, outDir=output_dir)\n",
    "bgroup.runAll()\n",
    "bundle.metricValues"
   ]
  },
  {
   "cell_type": "markdown",
   "metadata": {},
   "source": [
    "Note that the `metricDtype` argument to the `maf.BaseMetric` initializer declared that the return type is an object."
   ]
  },
  {
   "cell_type": "markdown",
   "metadata": {},
   "source": [
    "Returning objects that are not of type `int` or `float` has a serious drawback: the visualization tools in MAF can generally only work with numbers:"
   ]
  },
  {
   "cell_type": "code",
   "execution_count": 21,
   "metadata": {},
   "outputs": [
    {
     "name": "stdout",
     "output_type": "stream",
     "text": [
      "Plotting figures with \"\" constraint now.\n",
      "Plotting complete.\n"
     ]
    },
    {
     "name": "stderr",
     "output_type": "stream",
     "text": [
      "/Users/lynnej/lsst_repos/rubin_sim/rubin_sim/maf/plots/plotHandler.py:584: UserWarning: Cannot plot object metric values with this plotter.\n",
      "  warnings.warn(\n"
     ]
    }
   ],
   "source": [
    "bgroup.plotAll(closefigs=False)"
   ]
  },
  {
   "cell_type": "markdown",
   "metadata": {},
   "source": [
    "## 9. Turning complex metrics into scalars with \"reduce\" functions"
   ]
  },
  {
   "cell_type": "markdown",
   "metadata": {},
   "source": [
    "If you have a metric which creates some arbitrary object (as `MyWierdMetric` above), but one or more interesting scalars can be derived from it, then it can be convenient to creat `reduce` functions to provide access to these scalars:"
   ]
  },
  {
   "cell_type": "code",
   "execution_count": 22,
   "metadata": {},
   "outputs": [],
   "source": [
    "class MyWierdMetric2(maf.BaseMetric):\n",
    "    def __init__(self):\n",
    "        super().__init__(\n",
    "            col=[\"moonAlt\", \"moonAz\"], metricName=\"wierdness2\", metricDtype=\"object\"\n",
    "        )\n",
    "\n",
    "    def run(self, dataSlice, slicePoint=None):\n",
    "        if len(dataSlice) is None:\n",
    "            this_slice_value = None\n",
    "        else:\n",
    "            this_slice_value = MyBespokeMoon(dataSlice[0].moonAlt, dataSlice[0].moonAz)\n",
    "        return this_slice_value\n",
    "    \n",
    "    def reduceAlt(self, metricValue):\n",
    "        return metricValue.alt\n",
    "    \n",
    "    def reduceAz(self, metricValue):\n",
    "        return metricValue.az"
   ]
  },
  {
   "cell_type": "code",
   "execution_count": 23,
   "metadata": {},
   "outputs": [
    {
     "name": "stdout",
     "output_type": "stream",
     "text": [
      "Querying table None with no constraint for columns ['moonAz', 'airmass', 'moonAlt'].\n",
      "Found 2081749 visits\n",
      "Running:  ['opsim_wierdness2_ONED']\n",
      "Completed metric generation.\n",
      "Running reduce methods.\n",
      "Running summary statistics.\n",
      "Completed.\n",
      "Plotting figures with \"\" constraint now.\n"
     ]
    },
    {
     "name": "stderr",
     "output_type": "stream",
     "text": [
      "/Users/lynnej/lsst_repos/rubin_sim/rubin_sim/maf/plots/plotHandler.py:584: UserWarning: Cannot plot object metric values with this plotter.\n",
      "  warnings.warn(\n"
     ]
    },
    {
     "name": "stdout",
     "output_type": "stream",
     "text": [
      "Plotting complete.\n"
     ]
    },
    {
     "data": {
      "image/png": "[encoded data removed]",
      "text/plain": [
       "<Figure size 432x288 with 1 Axes>"
      ]
     },
     "metadata": {
      "needs_background": "light"
     },
     "output_type": "display_data"
    },
    {
     "data": {
      "image/png": "[encoded data removed]",
      "text/plain": [
       "<Figure size 432x288 with 1 Axes>"
      ]
     },
     "metadata": {
      "needs_background": "light"
     },
     "output_type": "display_data"
    }
   ],
   "source": [
    "slicer = maf.OneDSlicer(sliceColName=\"airmass\", binMin=1.0, binMax=2.5, binsize=0.1)\n",
    "metric = MyWierdMetric2()\n",
    "bundle = maf.MetricBundle(metric, slicer, \"\")\n",
    "bgroup = maf.MetricBundleGroup([bundle], opsim_db_fname, outDir=output_dir)\n",
    "bgroup.runAll()\n",
    "bgroup.plotAll(closefigs=False)"
   ]
  },
  {
   "cell_type": "markdown",
   "metadata": {},
   "source": [
    "With the addition of reduce methods (those beginning in `reduce`) that transform our custom object into scalars, plots that use scalars now appear. \n",
    "\n",
    "Full metric bundles corresponding to these new \"reduced metrics\" are present in the metric bundle group, and this provides access values themselves."
   ]
  },
  {
   "cell_type": "code",
   "execution_count": 24,
   "metadata": {},
   "outputs": [
    {
     "data": {
      "text/plain": [
       "dict_keys(['opsim_wierdness2_ONED', 'wierdness2_Alt', 'wierdness2_Az'])"
      ]
     },
     "execution_count": 24,
     "metadata": {},
     "output_type": "execute_result"
    }
   ],
   "source": [
    "bgroup.bundleDict.keys()"
   ]
  },
  {
   "cell_type": "code",
   "execution_count": 25,
   "metadata": {},
   "outputs": [
    {
     "data": {
      "text/plain": [
       "masked_array(data=[27.748651376649068, -74.70867834287853,\n",
       "                   27.359201708949715, -33.87913814643979,\n",
       "                   78.8074424215729, -42.895141726013975,\n",
       "                   -44.79790322094041, 75.43248619598359,\n",
       "                   -37.41140535523082, 37.38457167534076,\n",
       "                   -48.83854078199618, 36.76355230946422,\n",
       "                   -11.067989482412692, -6.130788118282641,\n",
       "                   40.656425423425524],\n",
       "             mask=[False, False, False, False, False, False, False, False,\n",
       "                   False, False, False, False, False, False, False],\n",
       "       fill_value=0.0)"
      ]
     },
     "execution_count": 25,
     "metadata": {},
     "output_type": "execute_result"
    }
   ],
   "source": [
    "bgroup.bundleDict['wierdness2_Alt'].metricValues"
   ]
  },
  {
   "cell_type": "markdown",
   "metadata": {},
   "source": [
    "## 10. Metrics for use with spatial slicers"
   ]
  },
  {
   "cell_type": "markdown",
   "metadata": {},
   "source": [
    "If the metric can get all the data it needs from the columns that can be passed in as part of the `dataSlice`, nothing special is required to use them to make a map on the sky.\n",
    "\n",
    "Some metrics require data on the coordinates of the slice point, and only make sense when appied to a slicer than slices based on position in the sky.\n",
    "MAF's `rubin_sim.maf.metrics.HealpixSlicer` is an example of such a slicer.\n",
    "The `HealpixSlicer` creates `slicePoint`s with keys that provide coordinate information on the slice:\n",
    "- `sid`, the `healpix` id\n",
    "- `ra`, the RA in radians\n",
    "- `dec`, the declination in radians\n",
    "- `nside`, the nside of the healpix pixelization\n",
    "\n",
    "When combined with values that can be passed in with the `dataSlice`, these values should provide the data needed to, for example, determine which part of the focal plane falls in the slice, or the area covered by the slice."
   ]
  },
  {
   "cell_type": "markdown",
   "metadata": {},
   "source": [
    "The `maf.ExgalM5` metric is one example of a metric that requires such coordinate information for from the slicers it can be used with:"
   ]
  },
  {
   "cell_type": "code",
   "execution_count": 26,
   "metadata": {},
   "outputs": [],
   "source": [
    "%psource maf.ExgalM5"
   ]
  },
  {
   "cell_type": "markdown",
   "metadata": {},
   "source": [
    "This metric demonstrates an additional feature of MAF metrics: the use of maps.\n",
    "In this case, calculation of the metric requires a dust map, and this is specified in the call to the initializer of the parent class (`super().__init__...`).\n",
    "When the metric is evaluated, the dictionary supplied in the `slicePoint` argument to `run` includes not only those generated by the slicer, but also `ebv`, the extinction from the dust map.\n",
    "\n",
    "There are other MAF `map`s available as well, each of which supplements the `slicePoint` dictionary with different values:"
   ]
  },
  {
   "cell_type": "code",
   "execution_count": 27,
   "metadata": {},
   "outputs": [
    {
     "name": "stdout",
     "output_type": "stream",
     "text": [
      "----  BaseMap  ----\n",
      " \n",
      " added to SlicePoint:  newkey\n",
      "----  DustMap  ----\n",
      "\n",
      "    Compute the E(B-V) for each point in a given spatial distribution of slicePoints.\n",
      "\n",
      "    Primarily, this calls EBVhp to read a healpix map of E(B-V) values over the sky, then\n",
      "    assigns ebv values to each slicePoint. If the slicer is a healpix slicer, this is trivial.\n",
      "\n",
      "    Parameters\n",
      "    ----------\n",
      "    interp : `bool`, opt\n",
      "        Interpolate the dust map at each slicePoint (True) or just use the nearest value (False).\n",
      "        Default is False.\n",
      "    nside : `int`, opt\n",
      "        Default nside value to read the dust map from disk. Primarily useful if the slicer is not\n",
      "        a healpix slicer.\n",
      "        Default 128.\n",
      "    mapPath : `str`, opt\n",
      "        Define a path to the directory holding the dust map files.\n",
      "        Default None, which uses RUBIN_SIM_DATA_DIR.\n",
      "    \n",
      " added to SlicePoint:  ebv\n",
      "----  DustMap3D  ----\n",
      "The DustMap3D provides a `~rubin_sim.maf.map` to hold 3d EBV data.\n",
      "\n",
      "    Adds the following keys to the slicePoints:\n",
      "    ebv3d_dists - the distances from the 3d dust map at each slicePoint (in pc)\n",
      "    ebv3d_ebvs - the E(B-V) values corresponding to each distance at each slicePoint\n",
      "    ebv3d_ebv_at_<distPc> - the (single) ebv value at the nearest distance to distPc\n",
      "    ebv3d_dist_at_<dMag> - the (single) distance value corresponding to where extinction and\n",
      "    distance modulus combine to create a m-Mo value of dMag, for the filter specified in filtername (in pc).\n",
      "    Note that <distPc> and <dMag> will be formatted with a single decimal place.\n",
      "\n",
      "    The additional method 'distance_at_mag' can be called either with the distances and ebv values for the\n",
      "    entire map or with the values from a single slicePoint, in order to calculate the distance at which\n",
      "    extinction and distance modulus combine to create a m-Mo value closest to 'dmag' in any filter.\n",
      "    This is the same value as would be reported in ebv3d_dist_at_<dMag>, but can be calculated on the fly,\n",
      "    allowing variable filters and dmag values.\n",
      "\n",
      "    Parameters\n",
      "    ----------\n",
      "    nside: `int`\n",
      "        Healpixel resolution (2^x).\n",
      "    mapFile : `str`, opt\n",
      "        Path to dust map file.\n",
      "    interp : `bool`, opt\n",
      "        Should returned values be interpolated (True) or just nearest neighbor (False).\n",
      "        Default True, but is ignored if 'pixels' is provided.\n",
      "    filtername : 'str', opt\n",
      "        Name of the filter (to match the lsst filter names in rubin_sim.photUtils.Dust_values)\n",
      "        in which to calculate dust extinction magnitudes\n",
      "    distPc : `float`, opt\n",
      "        Distance at which to precalculate the nearest ebv value\n",
      "    dMag : `float`, opt\n",
      "        Calculate the maximum distance which matches this 'dMag'\n",
      "        dMag == m-mO (dust extinction + distance modulus)\n",
      "    R_x : `dict` {`str`: `float`}, opt\n",
      "        Per-filter dust extinction curve coefficients.\n",
      "        Calculated by rubin_sim.photUtils.Dust_values if \"None\".\n",
      "    \n",
      " added to SlicePoint:  ebv3d_ebvs,ebv3d_dists,ebv3d_ebv_at_3000.0,ebv3d_dist_at_15.2\n",
      "----  GalCoordsMap  ----\n",
      "None\n",
      " added to SlicePoint:  gall,galb\n",
      "----  GalacticPlanePriorityMap  ----\n",
      "\n",
      "    Read and return the galactic plane priority map data at each slicePoint.\n",
      "\n",
      "    Primarily, this calls galactic_plane_priority_map to read the map data, and then assigns\n",
      "    the appropriate values to each slicePoint. If the slicer is an nside=64 healpix slicer, this is trivial.\n",
      "    (other use-cases currently experimental and not supported).\n",
      "\n",
      "    Parameters\n",
      "    ----------\n",
      "    interp : `bool`, opt\n",
      "        Interpolate the dust map at each slicePoint (True) or just use the nearest value (False).\n",
      "        Default is False.\n",
      "    nside : `int`, opt\n",
      "        Default nside value to read the dust map from disk. Primarily useful if the slicer is not\n",
      "        a healpix slicer.\n",
      "        Default 64.\n",
      "    mapPath : `str`, opt\n",
      "        Define a path to the directory holding the dust map files.\n",
      "        Default None, which uses RUBIN_SIM_DATA_DIR.\n",
      "    \n",
      "Read galplane priority map from /Users/lynnej/rubin_sim_data/maps/GalacticPlanePriorityMaps/priority_GalPlane_footprint_map_data_u.fits\n",
      "Read galplane priority map from /Users/lynnej/rubin_sim_data/maps/GalacticPlanePriorityMaps/priority_GalPlane_footprint_map_data_g.fits\n",
      "Read galplane priority map from /Users/lynnej/rubin_sim_data/maps/GalacticPlanePriorityMaps/priority_GalPlane_footprint_map_data_r.fits\n",
      "Read galplane priority map from /Users/lynnej/rubin_sim_data/maps/GalacticPlanePriorityMaps/priority_GalPlane_footprint_map_data_i.fits\n",
      "Read galplane priority map from /Users/lynnej/rubin_sim_data/maps/GalacticPlanePriorityMaps/priority_GalPlane_footprint_map_data_z.fits\n",
      "Read galplane priority map from /Users/lynnej/rubin_sim_data/maps/GalacticPlanePriorityMaps/priority_GalPlane_footprint_map_data_y.fits\n",
      "Read galplane priority map from /Users/lynnej/rubin_sim_data/maps/GalacticPlanePriorityMaps/priority_GalPlane_footprint_map_data_sum.fits\n",
      " added to SlicePoint:  galplane_priority_pencilbeams_map:u,galplane_priority_magellenic_clouds_map:u,galplane_priority_xray_binaries_map:u,galplane_priority_galactic_bulge_map:u,galplane_priority_galactic_plane_map:u,galplane_priority_globular_clusters_map:u,galplane_priority_open_clusters_map:u,galplane_priority_clementini_stellarpops_map:u,galplane_priority_zucker_sfr_map:u,galplane_priority_combined_map:u,galplane_priority_bonito_sfr_map:u,galplane_priority_pencilbeams_map:g,galplane_priority_magellenic_clouds_map:g,galplane_priority_xray_binaries_map:g,galplane_priority_galactic_bulge_map:g,galplane_priority_galactic_plane_map:g,galplane_priority_globular_clusters_map:g,galplane_priority_open_clusters_map:g,galplane_priority_clementini_stellarpops_map:g,galplane_priority_zucker_sfr_map:g,galplane_priority_combined_map:g,galplane_priority_bonito_sfr_map:g,galplane_priority_pencilbeams_map:r,galplane_priority_magellenic_clouds_map:r,galplane_priority_xray_binaries_map:r,galplane_priority_galactic_bulge_map:r,galplane_priority_galactic_plane_map:r,galplane_priority_globular_clusters_map:r,galplane_priority_open_clusters_map:r,galplane_priority_clementini_stellarpops_map:r,galplane_priority_zucker_sfr_map:r,galplane_priority_combined_map:r,galplane_priority_bonito_sfr_map:r,galplane_priority_pencilbeams_map:i,galplane_priority_magellenic_clouds_map:i,galplane_priority_xray_binaries_map:i,galplane_priority_galactic_bulge_map:i,galplane_priority_galactic_plane_map:i,galplane_priority_globular_clusters_map:i,galplane_priority_open_clusters_map:i,galplane_priority_clementini_stellarpops_map:i,galplane_priority_zucker_sfr_map:i,galplane_priority_combined_map:i,galplane_priority_bonito_sfr_map:i,galplane_priority_pencilbeams_map:z,galplane_priority_magellenic_clouds_map:z,galplane_priority_xray_binaries_map:z,galplane_priority_galactic_bulge_map:z,galplane_priority_galactic_plane_map:z,galplane_priority_globular_clusters_map:z,galplane_priority_open_clusters_map:z,galplane_priority_clementini_stellarpops_map:z,galplane_priority_zucker_sfr_map:z,galplane_priority_combined_map:z,galplane_priority_bonito_sfr_map:z,galplane_priority_pencilbeams_map:y,galplane_priority_magellenic_clouds_map:y,galplane_priority_xray_binaries_map:y,galplane_priority_galactic_bulge_map:y,galplane_priority_galactic_plane_map:y,galplane_priority_globular_clusters_map:y,galplane_priority_open_clusters_map:y,galplane_priority_clementini_stellarpops_map:y,galplane_priority_zucker_sfr_map:y,galplane_priority_combined_map:y,galplane_priority_bonito_sfr_map:y,galplane_priority_pencilbeams_map:sum,galplane_priority_magellenic_clouds_map:sum,galplane_priority_xray_binaries_map:sum,galplane_priority_galactic_bulge_map:sum,galplane_priority_galactic_plane_map:sum,galplane_priority_globular_clusters_map:sum,galplane_priority_open_clusters_map:sum,galplane_priority_clementini_stellarpops_map:sum,galplane_priority_zucker_sfr_map:sum,galplane_priority_combined_map:sum,galplane_priority_bonito_sfr_map:sum\n",
      "----  StellarDensityMap  ----\n",
      "\n",
      "    Return the cumulative stellar luminosity function for each slicepoint. Units of stars per sq degree.\n",
      "    Uses a healpix map of nside=64. Uses the nearest healpix point for other ra,dec values.\n",
      "\n",
      "    Parameters\n",
      "    ----------\n",
      "    startype : `str` ('allstars', 'wdstars')\n",
      "        Load the luminosity function for all stars ('allstars'), which includes main-sequence stars\n",
      "        white dwarfs, blue horozontal branch, RR Lyrae, and Cepheids. The 'wdstars' option only includes\n",
      "        white dwarf stars.\n",
      "    filtername : `str`\n",
      "        Filter to use. Options of u,g,r,i,z,y\n",
      "    \n",
      " added to SlicePoint:  starLumFunc_r,starMapBins_r\n",
      "----  TrilegalDensityMap  ----\n",
      "\n",
      "    Return the cumulative stellar luminosity function for each slicepoint. Units of stars per sq degree.\n",
      "\n",
      "    Parameters\n",
      "    ----------\n",
      "    filtername : `str`, opt\n",
      "        Filter to use. Options of u,g,r,i,z,y. Default r.\n",
      "    nside : `int`, opt\n",
      "        The HEALpix nside (can be 64 or 128). Default 64.\n",
      "    ext : `bool`, opt\n",
      "        Use the full sky maps. Default True.\n",
      "    \n",
      " added to SlicePoint:  starLumFunc_r,starMapBins_r\n"
     ]
    }
   ],
   "source": [
    "maf.BaseMap.help(doc=True)"
   ]
  },
  {
   "cell_type": "markdown",
   "metadata": {},
   "source": [
    "## 11. What columns and stackers can I use?"
   ]
  },
  {
   "cell_type": "markdown",
   "metadata": {},
   "source": [
    "You can get a list of columns available in an `opsim` output database by looking at the sqlite database output itself, or looking up the relevant documentation on the `rubin_sim` documentation pages (https://rubin-sim.lsst.io/rs_scheduler/output_schema.html)."
   ]
  },
  {
   "cell_type": "markdown",
   "metadata": {},
   "source": [
    "This code will print a list of available stackers, and what columns they supply:"
   ]
  },
  {
   "cell_type": "code",
   "execution_count": 28,
   "metadata": {},
   "outputs": [
    {
     "name": "stdout",
     "output_type": "stream",
     "text": [
      "{'AppMagNullStacker': ['appMag'],\n",
      " 'AppMagStacker': ['appMag'],\n",
      " 'BaseDitherStacker': [],\n",
      " 'BaseMoStacker': [],\n",
      " 'CoaddStacker': ['coadd'],\n",
      " 'CometAppMagStacker': ['appMag'],\n",
      " 'DcrStacker': ['ra_dcr_amp', 'dec_dcr_amp'],\n",
      " 'EclStacker': ['ecLat', 'ecLon'],\n",
      " 'EclipticStacker': ['eclipLat', 'eclipLon'],\n",
      " 'FiveSigmaStacker': ['m5_simsUtils'],\n",
      " 'GalacticStacker': ['gall', 'galb'],\n",
      " 'HexDitherFieldPerNightStacker': ['hexDitherFieldPerNightRa',\n",
      "                                   'hexDitherFieldPerNightDec'],\n",
      " 'HexDitherFieldPerVisitStacker': ['hexDitherFieldPerVisitRa',\n",
      "                                   'hexDitherFieldPerVisitDec'],\n",
      " 'HexDitherPerNightStacker': ['hexDitherPerNightRa', 'hexDitherPerNightDec'],\n",
      " 'HourAngleStacker': ['HA'],\n",
      " 'M5OptimalStacker': ['m5Optimal'],\n",
      " 'MoMagStacker': ['appMag', 'SNR', 'vis'],\n",
      " 'NEODistStacker': ['MaxGeoDist', 'NEOHelioX', 'NEOHelioY'],\n",
      " 'NFollowStacker': ['nObservatories'],\n",
      " 'NormAirmassStacker': ['normairmass'],\n",
      " 'ParallacticAngleStacker': ['PA'],\n",
      " 'ParallaxFactorStacker': ['ra_pi_amp', 'dec_pi_amp'],\n",
      " 'RandomDitherFieldPerNightStacker': ['randomDitherFieldPerNightRa',\n",
      "                                      'randomDitherFieldPerNightDec'],\n",
      " 'RandomDitherFieldPerVisitStacker': ['randomDitherFieldPerVisitRa',\n",
      "                                      'randomDitherFieldPerVisitDec'],\n",
      " 'RandomDitherPerNightStacker': ['randomDitherPerNightRa',\n",
      "                                 'randomDitherPerNightDec'],\n",
      " 'RandomRotDitherPerFilterChangeStacker': ['randomDitherPerFilterChangeRotTelPos'],\n",
      " 'SNRStacker': ['SNR', 'vis'],\n",
      " 'SaturationStacker': ['saturation_mag'],\n",
      " 'SdssRADecStacker': ['RA1',\n",
      "                      'Dec1',\n",
      "                      'RA2',\n",
      "                      'Dec2',\n",
      "                      'RA3',\n",
      "                      'Dec3',\n",
      "                      'RA4',\n",
      "                      'Dec4'],\n",
      " 'SpiralDitherFieldPerNightStacker': ['spiralDitherFieldPerNightRa',\n",
      "                                      'spiralDitherFieldPerNightDec'],\n",
      " 'SpiralDitherFieldPerVisitStacker': ['spiralDitherFieldPerVisitRa',\n",
      "                                      'spiralDitherFieldPerVisitDec'],\n",
      " 'SpiralDitherPerNightStacker': ['spiralDitherPerNightRa',\n",
      "                                 'spiralDitherPerNightDec'],\n",
      " 'WFDlabelStacker': ['areaId'],\n",
      " 'ZenithDistStacker': ['zenithDistance'],\n",
      " 'rubin_sim.maf.mafContrib.LSSObsStrategy.FermatSpiralDitherFieldPerNightStacker': [],\n",
      " 'rubin_sim.maf.mafContrib.LSSObsStrategy.FermatSpiralDitherFieldPerVisitStacker': [],\n",
      " 'rubin_sim.maf.mafContrib.LSSObsStrategy.FermatSpiralDitherPerNightStacker': [],\n",
      " 'rubin_sim.maf.mafContrib.LSSObsStrategy.PentagonDiamondDitherFieldPerSeasonStacker': [],\n",
      " 'rubin_sim.maf.mafContrib.LSSObsStrategy.PentagonDiamondDitherPerSeasonStacker': [],\n",
      " 'rubin_sim.maf.mafContrib.LSSObsStrategy.PentagonDitherFieldPerSeasonStacker': [],\n",
      " 'rubin_sim.maf.mafContrib.LSSObsStrategy.PentagonDitherPerSeasonStacker': [],\n",
      " 'rubin_sim.maf.mafContrib.LSSObsStrategy.RepulsiveRandomDitherFieldPerNightStacker': [],\n",
      " 'rubin_sim.maf.mafContrib.LSSObsStrategy.RepulsiveRandomDitherFieldPerVisitStacker': [],\n",
      " 'rubin_sim.maf.mafContrib.LSSObsStrategy.RepulsiveRandomDitherPerNightStacker': [],\n",
      " 'rubin_sim.maf.mafContrib.LSSObsStrategy.SpiralDitherPerSeasonStacker': ['spiralDitherFieldPerVisitRa',\n",
      "                                                                          'spiralDitherFieldPerVisitDec']}\n"
     ]
    }
   ],
   "source": [
    "import pprint\n",
    "\n",
    "pprint.pprint({k: v.colsAdded for k, v in maf.BaseStacker.registry.items()})"
   ]
  },
  {
   "cell_type": "code",
   "execution_count": null,
   "metadata": {},
   "outputs": [],
   "source": []
  }
 ],
 "metadata": {
  "kernelspec": {
   "display_name": "Python 3 (ipykernel)",
   "language": "python",
   "name": "python3"
  },
  "language_info": {
   "codemirror_mode": {
    "name": "ipython",
    "version": 3
   },
   "file_extension": ".py",
   "mimetype": "text/x-python",
   "name": "python",
   "nbconvert_exporter": "python",
   "pygments_lexer": "ipython3",
   "version": "3.9.12"
  }
 },
 "nbformat": 4,
 "nbformat_minor": 4
}
